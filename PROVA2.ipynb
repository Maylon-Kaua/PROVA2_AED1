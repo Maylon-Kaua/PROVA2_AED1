{
 "cells": [
  {
   "cell_type": "code",
   "execution_count": 18,
   "id": "032df3e7-ff11-46e2-ad6a-fcb50c33cfff",
   "metadata": {},
   "outputs": [
    {
     "name": "stdout",
     "output_type": "stream",
     "text": [
      "A média de consumo diário foi de: 51.37\n"
     ]
    }
   ],
   "source": [
    "consumo_diario = [50, 45, 55, 60, 48, 52, 47, 49, 53, 51, 50, 46, 54, 61, 49, 53, 48, 50, 52, 47, 56, 50, 55, 60, 48, 52, 47, 49, 53, 51]\n",
    "\n",
    "def calcular_media(lista):\n",
    "    total_consumo = len(lista)\n",
    "    soma_do_consumo = sum(lista)\n",
    "    consumo_medio = soma_do_consumo / total_consumo\n",
    "    return consumo_medio\n",
    "\n",
    "media = calcular_media(consumo_diario)\n",
    "print(f\"A média de consumo diário foi de: {media:.2f}\")\n"
   ]
  },
  {
   "cell_type": "code",
   "execution_count": null,
   "id": "23a1586f-bfb1-40a7-ada6-f281fd65e8cf",
   "metadata": {},
   "outputs": [],
   "source": []
  }
 ],
 "metadata": {
  "kernelspec": {
   "display_name": "Python 3 (ipykernel)",
   "language": "python",
   "name": "python3"
  },
  "language_info": {
   "codemirror_mode": {
    "name": "ipython",
    "version": 3
   },
   "file_extension": ".py",
   "mimetype": "text/x-python",
   "name": "python",
   "nbconvert_exporter": "python",
   "pygments_lexer": "ipython3",
   "version": "3.12.4"
  }
 },
 "nbformat": 4,
 "nbformat_minor": 5
}
